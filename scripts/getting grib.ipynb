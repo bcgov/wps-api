{
 "cells": [
  {
   "cell_type": "code",
   "execution_count": 26,
   "metadata": {},
   "outputs": [
    {
     "name": "stdout",
     "output_type": "stream",
     "text": [
      "http://dd.weather.gc.ca/model_gem_global/25km/grib2/lat_lon/00/0/CMC_glb_TMP_TGL_2_latlon.24x.24_2020032700_P0.grib2\n"
     ]
    }
   ],
   "source": [
    "# Find a GRIB file to download\n",
    "\n",
    "from datetime import datetime\n",
    "# https://weather.gc.ca/grib/grib2_glb_25km_e.html\n",
    "# https://weather.gc.ca/grib/usage_tips_e.html\n",
    "\n",
    "\"\"\"\n",
    "https://weather.gc.ca/grib/grib2_ens_geps_e.html:\n",
    "\n",
    "The data can be accessed at the following URLs:\n",
    "http://dd.weather.gc.ca/ensemble/geps/grib2/raw/HH/hhh/\n",
    "\n",
    "where:\n",
    "\n",
    "raw: is a constant string indicating model data is raw (not processed)\n",
    "HH: model run start, in UTC [00,12]\n",
    "hhh: forecast hour [000, 003, …, 192, 198, 204, ..., 378, 384] and [000, 003, …, 192, 198, 204, ..., 762, 768] each Thursday at 000UTC\n",
    "\n",
    "\"\"\"\n",
    "\n",
    "\"\"\"\n",
    "https://weather.gc.ca/grib/grib2_ens_geps_e.html::\n",
    "\n",
    "The file names have the following nomenclature:\n",
    "CMC_geps-raw_Variable_LevelType_Level_latlonResolution_YYYYMMDDHH_Phhh_allmbrs.grib2\n",
    "\n",
    "where:\n",
    "\n",
    "CMC_geps-raw: constant string indicating that the data is from the Canadian Meteorological Centre (CMC), the model used (geps: Global Ensemble Prediction System) and the data type (raw).\n",
    "Resolution: Constant string indicating the data resolution (0p5x0p5)\n",
    "Variable: Variable type included in this file. To consult a complete list, refer to the variables section.\n",
    "LevelType: Level type. To consult a complete list, refer to the variables section.\n",
    "Level: Level value. To consult a complete list, refer to the variables section.\n",
    "YYYYMMDD: Year, month and day of the beginning of the forecast.\n",
    "HH: UTC run time [00,12]\n",
    "Phhh: P is a constant character. hhh is the forecast hour [000, 003, …, 192, 198, 204, ..., 378, 384] or [000, 003, …, 192, 198, 204, ..., 762, 768] each Thursday at 000UTC\n",
    "allmbrs: constant string indicating that all the members of the ensemble are included in this file\n",
    "grib2: constant string indicating the GRIB2 format is used\n",
    "Example of file name:\n",
    "CMC_geps-raw_UGRD_ISBL_0925_latlon0p5x0p5_2010090100_P078_allmbrs.grib2\n",
    "\n",
    "This file originates from the Canadian Meteorological Center (CMC) and contains the raw data of the Global Ensemble Prediction System (CMC_geps-raw). The data in the file start on September 1st 2010 at 00Z (2010090100). It contains the U-component wind (UGRD) at the isobaric level 925 mb (ISBL_0925) for the forecast hour 78 (P078), for all members (allmbrs) in GRIB2 format (.grib2).\n",
    "\"\"\"\n",
    "\n",
    "def get_url(forecastHour : str):\n",
    "    \"\"\"\n",
    "    forecastHour : [000, 003, …, 192, 198, 204, ..., 237, 240]\n",
    "    \"\"\"\n",
    "    url = 'http://dd.weather.gc.ca/model_gem_global/25km/grib2/lat_lon/{HH}/{hhh}/'.format(HH='00', hhh=forecastHour)\n",
    "\n",
    "    # http://dd.weather.gc.ca/model_gem_global/25km/grib2/lat_lon/HH/hhh/\n",
    "    # http://dd.weather.gc.ca/model_gem_global/25km/grib2/lat_lon/00/000/\n",
    "\n",
    "    # https://weather.gc.ca/grib/GLB_HR/GLB_latlonp24xp24_P000_deterministic_e.html\n",
    "    # https://weather.gc.ca/grib/grib2_glb_25km_e.html#variables\n",
    "    # 4\tTemperature\t2m above ground\tTMP_TGL_2m\tKelvin\n",
    "    variable = 'TMP'\n",
    "    levelType = 'TGL'\n",
    "    level = '2'\n",
    "\n",
    "    # Projection: projection used for the data. Can take the values [latlon, ps]\n",
    "    projection = 'latlon.24x.24'\n",
    "\n",
    "    date = datetime.now().strftime('%Y%m%d00')\n",
    "\n",
    "    # CMC_glb_Variable_LevelType_Level_projection_YYYYMMDDHH_Phhh.grib2\n",
    "    filename = 'CMC_glb_{Variable}_{LevelType}_{Level}_{projection}_{YYYYMMDDHH}_P{hhh}.grib2'.format(\n",
    "        Variable=variable, LevelType=levelType, Level=level, projection=projection, YYYYMMDDHH=date, hhh=forecastHour)\n",
    "\n",
    "    return '{}{}'.format(url, filename)\n",
    "\n",
    "print(get_url('000'))\n"
   ]
  },
  {
   "cell_type": "code",
   "execution_count": 43,
   "metadata": {},
   "outputs": [],
   "source": [
    "# 1. Download grib files\n",
    "import wget\n",
    "import os\n",
    "\n",
    "folder = 'grib'\n",
    "if not os.path.exists(folder):\n",
    "    os.makedirs(folder)\n",
    "# The prediction runs for 10 days. 10 days x 24 hours\n",
    "for forecastHour in ['{:03d}'.format(hour) for hour in range(0, 10*24+1, 3)]:\n",
    "    gribUrl = get_url(forecastHour=forecastHour)\n",
    "    print('downloading {}'.format(gribUrl))\n",
    "    wget.download(gribUrl, out=folder)\n",
    "\n"
   ]
  },
  {
   "cell_type": "code",
   "execution_count": 81,
   "metadata": {},
   "outputs": [
    {
     "name": "stdout",
     "output_type": "stream",
     "text": [
      "b'Processing 1/1: grib/CMC_glb_TMP_TGL_2_latlon.24x.24_2020032700_P033.grib2\\n'\n"
     ]
    },
    {
     "ename": "DuplicateTable",
     "evalue": "relation \"temperature\" already exists\n",
     "output_type": "error",
     "traceback": [
      "\u001b[0;31m---------------------------------------------------------------------------\u001b[0m",
      "\u001b[0;31mDuplicateTable\u001b[0m                            Traceback (most recent call last)",
      "\u001b[0;32m<ipython-input-81-2cabc6711ded>\u001b[0m in \u001b[0;36m<module>\u001b[0;34m\u001b[0m\n\u001b[1;32m     20\u001b[0m             \u001b[0;32mwith\u001b[0m \u001b[0mconn\u001b[0m\u001b[0;34m.\u001b[0m\u001b[0mcursor\u001b[0m\u001b[0;34m(\u001b[0m\u001b[0;34m)\u001b[0m \u001b[0;32mas\u001b[0m \u001b[0mcursor\u001b[0m\u001b[0;34m:\u001b[0m\u001b[0;34m\u001b[0m\u001b[0;34m\u001b[0m\u001b[0m\n\u001b[1;32m     21\u001b[0m                 \u001b[0;32mwith\u001b[0m \u001b[0mopen\u001b[0m\u001b[0;34m(\u001b[0m\u001b[0moutfile_name\u001b[0m\u001b[0;34m,\u001b[0m \u001b[0;34m'r'\u001b[0m\u001b[0;34m)\u001b[0m \u001b[0;32mas\u001b[0m \u001b[0minfile\u001b[0m\u001b[0;34m:\u001b[0m\u001b[0;34m\u001b[0m\u001b[0;34m\u001b[0m\u001b[0m\n\u001b[0;32m---> 22\u001b[0;31m                     \u001b[0mcursor\u001b[0m\u001b[0;34m.\u001b[0m\u001b[0mexecute\u001b[0m\u001b[0;34m(\u001b[0m\u001b[0minfile\u001b[0m\u001b[0;34m.\u001b[0m\u001b[0mread\u001b[0m\u001b[0;34m(\u001b[0m\u001b[0;34m)\u001b[0m\u001b[0;34m)\u001b[0m\u001b[0;34m\u001b[0m\u001b[0;34m\u001b[0m\u001b[0m\n\u001b[0m\u001b[1;32m     23\u001b[0m \u001b[0;34m\u001b[0m\u001b[0m\n\u001b[1;32m     24\u001b[0m \u001b[0;34m\u001b[0m\u001b[0m\n",
      "\u001b[0;31mDuplicateTable\u001b[0m: relation \"temperature\" already exists\n"
     ]
    }
   ],
   "source": [
    "import subprocess\n",
    "# 2. Import grib files into postgress\n",
    "with psycopg2.connect(host=\"127.0.0.1\", dbname=\"wps\", user=\"wps\", password=\"wps\") as conn:\n",
    "    # Generate sql\n",
    "    outfile_name = '{}/output.sql'.format(folder)\n",
    "    with open(outfile_name, 'w') as outfile:\n",
    "        process = subprocess.Popen(\n",
    "            ['raster2pgsql',\n",
    "            '{folder}/{grib}'.format(folder=folder, grib=filename),\n",
    "            'wps.temperature'],\n",
    "            stdout=outfile, \n",
    "            stderr=subprocess.PIPE)\n",
    "        stdout, stderr = process.communicate()\n",
    "        print(stderr)\n",
    "    \n",
    "    for filename in os.listdir(folder):\n",
    "        if filename.endswith(\".grib2\"):\n",
    "            \n",
    "            if os.path.exists(outfile_name):\n",
    "                os.remove(outfile_name)\n",
    "            with open(outfile_name, 'w') as outfile:\n",
    "                process = subprocess.Popen(\n",
    "                    ['raster2pgsql',\n",
    "                     '-F',\n",
    "                     '{folder}/{grib}'.format(folder=folder, grib=filename),\n",
    "                     'wps.temperature'],\n",
    "                    stdout=outfile, \n",
    "                    stderr=subprocess.PIPE)\n",
    "                stdout, stderr = process.communicate()\n",
    "                print(stderr)\n",
    "            # Import into postgis\n",
    "            with conn.cursor() as cursor:\n",
    "                with open(outfile_name, 'r') as infile:\n",
    "                    cursor.execute(infile.read())\n",
    "\n",
    "\n",
    "            #params = '{folder}/{grib} wps.temperature > {folder}/output.sql'.format(folder=folder,grib=filename)\n",
    "    #         process = subprocess.Popen(\n",
    "    #             ['raster2pgsql', '{}/{}'.format(folder, filename), 'wps.temperature', '>', '{}/output.sql'.format(folder)], stdout=subprocess.PIPE, stderr=subprocess.PIPE)\n",
    "    #         #process = subprocess.Popen(['pwd'], stdout=subprocess.PIPE, stderr=subprocess.PIPE)\n",
    "    #         stdout, stderr = process.communicate()\n",
    "    #         print(stdout)\n",
    "    #         print(stderr)\n",
    "            break\n"
   ]
  },
  {
   "cell_type": "code",
   "execution_count": 82,
   "metadata": {},
   "outputs": [
    {
     "ename": "ProgramLimitExceeded",
     "evalue": "out of memory\nDETAIL:  Cannot enlarge string buffer containing 0 bytes by 1459960450 more bytes.\n",
     "output_type": "error",
     "traceback": [
      "\u001b[0;31m---------------------------------------------------------------------------\u001b[0m",
      "\u001b[0;31mProgramLimitExceeded\u001b[0m                      Traceback (most recent call last)",
      "\u001b[0;32m<ipython-input-82-6c747a70e23b>\u001b[0m in \u001b[0;36m<module>\u001b[0;34m\u001b[0m\n\u001b[1;32m      4\u001b[0m     \u001b[0;32mwith\u001b[0m \u001b[0mconn\u001b[0m\u001b[0;34m.\u001b[0m\u001b[0mcursor\u001b[0m\u001b[0;34m(\u001b[0m\u001b[0;34m)\u001b[0m \u001b[0;32mas\u001b[0m \u001b[0mcursor\u001b[0m\u001b[0;34m:\u001b[0m\u001b[0;34m\u001b[0m\u001b[0;34m\u001b[0m\u001b[0m\n\u001b[1;32m      5\u001b[0m         \u001b[0;32mwith\u001b[0m \u001b[0mopen\u001b[0m\u001b[0;34m(\u001b[0m\u001b[0moutfile_name\u001b[0m\u001b[0;34m,\u001b[0m \u001b[0;34m'r'\u001b[0m\u001b[0;34m)\u001b[0m \u001b[0;32mas\u001b[0m \u001b[0minfile\u001b[0m\u001b[0;34m:\u001b[0m\u001b[0;34m\u001b[0m\u001b[0;34m\u001b[0m\u001b[0m\n\u001b[0;32m----> 6\u001b[0;31m             \u001b[0mcursor\u001b[0m\u001b[0;34m.\u001b[0m\u001b[0mexecute\u001b[0m\u001b[0;34m(\u001b[0m\u001b[0minfile\u001b[0m\u001b[0;34m.\u001b[0m\u001b[0mread\u001b[0m\u001b[0;34m(\u001b[0m\u001b[0;34m)\u001b[0m\u001b[0;34m)\u001b[0m\u001b[0;34m\u001b[0m\u001b[0;34m\u001b[0m\u001b[0m\n\u001b[0m",
      "\u001b[0;31mProgramLimitExceeded\u001b[0m: out of memory\nDETAIL:  Cannot enlarge string buffer containing 0 bytes by 1459960450 more bytes.\n"
     ]
    }
   ],
   "source": [
    "#3. Import grib files into postgress\n",
    "with psycopg2.connect(host=\"127.0.0.1\", dbname=\"wps\", user=\"wps\", password=\"wps\") as conn:\n",
    "    # Import into postgis\n",
    "    with conn.cursor() as cursor:\n",
    "        with open(outfile_name, 'r') as infile:\n",
    "            print('importing {}'.format(outfile_name))\n",
    "            cursor.execute(infile.read())\n"
   ]
  },
  {
   "cell_type": "code",
   "execution_count": null,
   "metadata": {},
   "outputs": [],
   "source": []
  },
  {
   "cell_type": "code",
   "execution_count": 16,
   "metadata": {},
   "outputs": [
    {
     "ename": "NotNullViolation",
     "evalue": "null value in column \"temperature_id\" violates not-null constraint\nDETAIL:  Failing row contains (null, 216.566, 010100000000000000008056C000000000008066C0).\n",
     "output_type": "error",
     "traceback": [
      "\u001b[0;31m---------------------------------------------------------------------------\u001b[0m",
      "\u001b[0;31mNotNullViolation\u001b[0m                          Traceback (most recent call last)",
      "\u001b[0;32m<ipython-input-16-e8d0e474880e>\u001b[0m in \u001b[0;36m<module>\u001b[0;34m\u001b[0m\n\u001b[1;32m     97\u001b[0m         \u001b[0;32mreturn\u001b[0m \u001b[0;36m1\u001b[0m\u001b[0;34m\u001b[0m\u001b[0;34m\u001b[0m\u001b[0m\n\u001b[1;32m     98\u001b[0m \u001b[0;34m\u001b[0m\u001b[0m\n\u001b[0;32m---> 99\u001b[0;31m \u001b[0mmain\u001b[0m\u001b[0;34m(\u001b[0m\u001b[0;34m)\u001b[0m\u001b[0;34m\u001b[0m\u001b[0;34m\u001b[0m\u001b[0m\n\u001b[0m",
      "\u001b[0;32m<ipython-input-16-e8d0e474880e>\u001b[0m in \u001b[0;36mmain\u001b[0;34m()\u001b[0m\n\u001b[1;32m     88\u001b[0m \u001b[0;32mdef\u001b[0m \u001b[0mmain\u001b[0m\u001b[0;34m(\u001b[0m\u001b[0;34m)\u001b[0m\u001b[0;34m:\u001b[0m\u001b[0;34m\u001b[0m\u001b[0;34m\u001b[0m\u001b[0m\n\u001b[1;32m     89\u001b[0m     \u001b[0;32mtry\u001b[0m\u001b[0;34m:\u001b[0m\u001b[0;34m\u001b[0m\u001b[0;34m\u001b[0m\u001b[0m\n\u001b[0;32m---> 90\u001b[0;31m         \u001b[0mexample\u001b[0m\u001b[0;34m(\u001b[0m\u001b[0;34m)\u001b[0m\u001b[0;34m\u001b[0m\u001b[0;34m\u001b[0m\u001b[0m\n\u001b[0m\u001b[1;32m     91\u001b[0m     \u001b[0;32mexcept\u001b[0m \u001b[0mCodesInternalError\u001b[0m \u001b[0;32mas\u001b[0m \u001b[0merr\u001b[0m\u001b[0;34m:\u001b[0m\u001b[0;34m\u001b[0m\u001b[0;34m\u001b[0m\u001b[0m\n\u001b[1;32m     92\u001b[0m         \u001b[0;32mif\u001b[0m \u001b[0mVERBOSE\u001b[0m\u001b[0;34m:\u001b[0m\u001b[0;34m\u001b[0m\u001b[0;34m\u001b[0m\u001b[0m\n",
      "\u001b[0;32m<ipython-input-16-e8d0e474880e>\u001b[0m in \u001b[0;36mexample\u001b[0;34m()\u001b[0m\n\u001b[1;32m     74\u001b[0m                                 \u001b[0mvalue\u001b[0m \u001b[0;34m=\u001b[0m \u001b[0mvalue\u001b[0m\u001b[0;34m\u001b[0m\u001b[0;34m\u001b[0m\u001b[0m\n\u001b[1;32m     75\u001b[0m                                 cursor.execute(\"INSERT INTO temperature (temperature, geom) VALUES (%s, %s)\", \n\u001b[0;32m---> 76\u001b[0;31m                                               (value, 'POINT({} {})'.format(lat, lon)))\n\u001b[0m\u001b[1;32m     77\u001b[0m \u001b[0;34m\u001b[0m\u001b[0m\n\u001b[1;32m     78\u001b[0m                             \u001b[0mprint\u001b[0m\u001b[0;34m(\u001b[0m\u001b[0;34m'- {} - lat={} lon={} value={}'\u001b[0m\u001b[0;34m.\u001b[0m\u001b[0mformat\u001b[0m\u001b[0;34m(\u001b[0m\u001b[0mi\u001b[0m\u001b[0;34m,\u001b[0m \u001b[0mlat\u001b[0m\u001b[0;34m,\u001b[0m \u001b[0mlon\u001b[0m\u001b[0;34m,\u001b[0m \u001b[0mvalue\u001b[0m\u001b[0;34m)\u001b[0m\u001b[0;34m)\u001b[0m\u001b[0;34m\u001b[0m\u001b[0;34m\u001b[0m\u001b[0m\n",
      "\u001b[0;31mNotNullViolation\u001b[0m: null value in column \"temperature_id\" violates not-null constraint\nDETAIL:  Failing row contains (null, 216.566, 010100000000000000008056C000000000008066C0).\n"
     ]
    }
   ],
   "source": [
    "# Iterate through the lat/long values for a GRIB file\n",
    "\n",
    "# from: https://confluence.ecmwf.int/display/ECC/ecCodes+installation\n",
    "\n",
    "# # install fortran compiler\n",
    "# brew install gcc\n",
    "# brew instal netcdf\n",
    "# brew install openjpeg\n",
    "\n",
    "# wget https://confluence.ecmwf.int/download/attachments/45757960/eccodes-2.17.0-Source.tar.gz?api=v2\n",
    "# tar -xzf eccodes-2.17.0-Source.tar.gz\n",
    "# mkdir build\n",
    "# cd build\n",
    "# cmake ../eccodes-2.17.0-Source\n",
    "# make\n",
    "# ctest\n",
    "# make install\n",
    "\n",
    "\n",
    "# https://pypi.org/project/eccodes/\n",
    "# https://confluence.ecmwf.int//display/ECC/Releases\n",
    "\n",
    "# https://confluence.ecmwf.int/display/ECC/Documentation\n",
    "# http://download.ecmwf.int/test-data/eccodes/html/namespaceec_codes.html\n",
    "\n",
    "# https://confluence.ecmwf.int/display/ECC/grib_iterator\n",
    "# how to use an iterator on lat/lon/values for GRIB messages\n",
    "from eccodes import *\n",
    "import psycopg2\n",
    "\n",
    "missingValue = 1e+20  # A value out of range\n",
    "\n",
    "match_lat = 48.44023\n",
    "match_lon = -123.38544\n",
    "\n",
    "kelvin = 273.15\n",
    "\n",
    "filename = \"CMC_glb_TMP_TGL_2_latlon.24x.24_2020032600_P000.grib2\"\n",
    "\n",
    "def example():\n",
    "    with open(filename, 'rb') as f:\n",
    "        while 1:\n",
    "            gid = codes_grib_new_from_file(f)\n",
    "            if gid is None:\n",
    "                break\n",
    "\n",
    "            # Set the value representing the missing value in the field.\n",
    "            # Choose a missingValue that does not correspond to any real value in the data array\n",
    "            codes_set(gid, \"missingValue\", missingValue)\n",
    "\n",
    "            iterid = codes_grib_iterator_new(gid, 0)\n",
    "            \n",
    "            try:\n",
    "                with psycopg2.connect(host=\"127.0.0.1\", dbname=\"wps\", user=\"wps\", password=\"wps\") as conn:\n",
    "                    with conn.cursor() as cursor:\n",
    "\n",
    "                        i = 0\n",
    "                        while 1:\n",
    "                            result = codes_grib_iterator_next(iterid)\n",
    "                            if not result:\n",
    "                                break\n",
    "\n",
    "                            [lat, lon, value] = result\n",
    "\n",
    "                            #if i % 10000 == 0:\n",
    "#                             tolerance = 0.3\n",
    "#                             if abs(lat - match_lat) < tolerance and abs(lon - match_lon) < tolerance:\n",
    "\n",
    "#                             print(lat - match_lat)\n",
    "\n",
    "                            if value == missingValue:\n",
    "                                value = 'missing'\n",
    "                            else:\n",
    "                                value = value\n",
    "                                cursor.execute(\"INSERT INTO temperature (temperature, geom) VALUES (%s, %s)\", \n",
    "                                              (value, 'POINT({} {})'.format(lat, lon)))\n",
    "\n",
    "                            print('- {} - lat={} lon={} value={}'.format(i, lat, lon, value))\n",
    "                                \n",
    "                            if i > 10:\n",
    "                                break\n",
    "\n",
    "                            i += 1\n",
    "            finally:\n",
    "                codes_grib_iterator_delete(iterid)\n",
    "                codes_release(gid)\n",
    "\n",
    "def main():\n",
    "    try:\n",
    "        example()\n",
    "    except CodesInternalError as err:\n",
    "        if VERBOSE:\n",
    "            traceback.print_exc(file=sys.stderr)\n",
    "        else:\n",
    "            sys.stderr.write(err.msg + '\\n')\n",
    " \n",
    "        return 1\n",
    "\n",
    "main()\n"
   ]
  },
  {
   "cell_type": "code",
   "execution_count": 10,
   "metadata": {},
   "outputs": [
    {
     "ename": "DuplicateTable",
     "evalue": "relation \"temperature\" already exists\n",
     "output_type": "error",
     "traceback": [
      "\u001b[0;31m---------------------------------------------------------------------------\u001b[0m",
      "\u001b[0;31mDuplicateTable\u001b[0m                            Traceback (most recent call last)",
      "\u001b[0;32m<ipython-input-10-9079a91ac86c>\u001b[0m in \u001b[0;36m<module>\u001b[0;34m\u001b[0m\n\u001b[1;32m      9\u001b[0m             \u001b[0mgeom\u001b[0m \u001b[0mgeometry\u001b[0m\u001b[0;34m\u001b[0m\u001b[0;34m\u001b[0m\u001b[0m\n\u001b[1;32m     10\u001b[0m         );\n\u001b[0;32m---> 11\u001b[0;31m         \"\"\")\n\u001b[0m\u001b[1;32m     12\u001b[0m         \u001b[0mcursor\u001b[0m\u001b[0;34m.\u001b[0m\u001b[0mcommit\u001b[0m\u001b[0;34m(\u001b[0m\u001b[0;34m)\u001b[0m\u001b[0;34m\u001b[0m\u001b[0;34m\u001b[0m\u001b[0m\n",
      "\u001b[0;31mDuplicateTable\u001b[0m: relation \"temperature\" already exists\n"
     ]
    }
   ],
   "source": [
    "# https://docs.sqlalchemy.org/en/13/_modules/examples/postgis/postgis.html\n",
    "\n",
    "import psycopg2\n",
    "with psycopg2.connect(host=\"127.0.0.1\", dbname=\"wps\", user=\"wps\", password=\"wps\") as conn:\n",
    "    with conn.cursor() as cursor:\n",
    "        cursor.execute(\"\"\"CREATE TABLE temperature(\n",
    "            temperature_id INTEGER PRIMARY KEY,\n",
    "            temperature float(8),\n",
    "            geom geometry\n",
    "        );\n",
    "        \"\"\")"
   ]
  },
  {
   "cell_type": "code",
   "execution_count": null,
   "metadata": {},
   "outputs": [],
   "source": [
    "# using gdal\n",
    "# https://trac.osgeo.org/gdal/wiki/BuildingOnMac\n",
    "# brew install gdal\n",
    "# raster2pgsql raster_options schema.table_name > output.sql\n",
    "# raster2pgsql CMC_glb_TMP_TGL_2_latlon.24x.24_2020032600_P000.grib2 wps.temperature > output.sql\n",
    "#select rid, ST_Value(rast, foo.pt_geom) as v1 from temperature cross join \n",
    "#(select ST_SetSRID(ST_Point(-123.38544, 48.44023), 0) as pt_geom) as foo\n"
   ]
  },
  {
   "cell_type": "code",
   "execution_count": 86,
   "metadata": {},
   "outputs": [
    {
     "name": "stdout",
     "output_type": "stream",
     "text": [
      "None\n"
     ]
    }
   ],
   "source": [
    "with psycopg2.connect(host=\"127.0.0.1\", dbname=\"wps\", user=\"wps\", password=\"wps\") as conn:\n",
    "        with conn.cursor() as cursor:\n",
    "            cursor.execute('select filename from wps.temperature')\n",
    "            record = cursor.fetchone()\n",
    "            print(record)"
   ]
  },
  {
   "cell_type": "code",
   "execution_count": 88,
   "metadata": {},
   "outputs": [
    {
     "data": {
      "text/plain": [
       "'moo'"
      ]
     },
     "execution_count": 88,
     "metadata": {},
     "output_type": "execute_result"
    }
   ],
   "source": [
    "a = 'moo.sql'\n",
    "a[:-4]"
   ]
  },
  {
   "cell_type": "code",
   "execution_count": null,
   "metadata": {},
   "outputs": [],
   "source": []
  }
 ],
 "metadata": {
  "kernelspec": {
   "display_name": "Python 3",
   "language": "python",
   "name": "python3"
  }
 },
 "nbformat": 4,
 "nbformat_minor": 4
}
